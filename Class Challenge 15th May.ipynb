{
 "cells": [
  {
   "cell_type": "markdown",
   "id": "2f99620c",
   "metadata": {},
   "source": [
    "s = \"this is My First Python programming class and i am learNING python string and its function\"\n",
    "1 . Try to extract data from index one to index 300 with a jump of 3 \n",
    "2. Try to reverse a string without using reverse function \n",
    "3. Try to split a string after conversion of entire string in uppercase \n",
    "4. try to convert the whole string into lower case \n",
    "5 . Try to capitalize the whole string \n",
    "6 . Write a diference between isalnum() and isalpha()\n",
    "7. Try to give an example of expand tab\n",
    "8 . Give an example of strip , lstrip and rstrip \n",
    "9.  Replace a string charecter by another charector by taking your own example \n",
    "\"sudhanshu\"\n",
    "10 . Try  to give a definition of string center function with and exmple \n",
    "11 . Write your own definition of compiler and interpretor without copy paste form internet in your own language\n",
    "12 . Python is a interpreted or compiled language give a clear ans with your understanding \n",
    "13 . Try to write a usecase of python with your understanding .\n",
    "\n",
    "\n",
    "you have to send a jupyter notebook to shivan@ineuron.ai before next saturday class 21st of may . "
   ]
  },
  {
   "cell_type": "code",
   "execution_count": 2,
   "id": "76d3cd7a",
   "metadata": {},
   "outputs": [],
   "source": [
    "s = \"this is My First Python programming class and i am learNING python string and its function\""
   ]
  },
  {
   "cell_type": "code",
   "execution_count": 3,
   "id": "9653b61a",
   "metadata": {},
   "outputs": [
    {
     "data": {
      "text/plain": [
       "'h   r tnrrmglsnimeNGyosi dtfco'"
      ]
     },
     "execution_count": 3,
     "metadata": {},
     "output_type": "execute_result"
    }
   ],
   "source": [
    "# Answer 1 \n",
    "s[1:300:3]"
   ]
  },
  {
   "cell_type": "code",
   "execution_count": 5,
   "id": "8e21e478",
   "metadata": {},
   "outputs": [
    {
     "data": {
      "text/plain": [
       "'noitcnuf sti dna gnirts nohtyp GNINrael ma i dna ssalc gnimmargorp nohtyP tsriF yM si siht'"
      ]
     },
     "execution_count": 5,
     "metadata": {},
     "output_type": "execute_result"
    }
   ],
   "source": [
    "#Answer 2\n",
    "s[::-1]"
   ]
  },
  {
   "cell_type": "code",
   "execution_count": 6,
   "id": "140e06ae",
   "metadata": {},
   "outputs": [],
   "source": [
    "# Answer 3\n",
    "u=s.upper()"
   ]
  },
  {
   "cell_type": "code",
   "execution_count": 7,
   "id": "2a2aa1dd",
   "metadata": {},
   "outputs": [
    {
     "data": {
      "text/plain": [
       "['THIS',\n",
       " 'IS',\n",
       " 'MY',\n",
       " 'FIRST',\n",
       " 'PYTHON',\n",
       " 'PROGRAMMING',\n",
       " 'CLASS',\n",
       " 'AND',\n",
       " 'I',\n",
       " 'AM',\n",
       " 'LEARNING',\n",
       " 'PYTHON',\n",
       " 'STRING',\n",
       " 'AND',\n",
       " 'ITS',\n",
       " 'FUNCTION']"
      ]
     },
     "execution_count": 7,
     "metadata": {},
     "output_type": "execute_result"
    }
   ],
   "source": [
    "u.split(' ')"
   ]
  },
  {
   "cell_type": "code",
   "execution_count": 8,
   "id": "e4d03413",
   "metadata": {},
   "outputs": [
    {
     "data": {
      "text/plain": [
       "'this is my first python programming class and i am learning python string and its function'"
      ]
     },
     "execution_count": 8,
     "metadata": {},
     "output_type": "execute_result"
    }
   ],
   "source": [
    "#Answer 4\n",
    "l=s.lower()\n",
    "l"
   ]
  },
  {
   "cell_type": "code",
   "execution_count": 9,
   "id": "83cf12f3",
   "metadata": {},
   "outputs": [],
   "source": [
    "#Answer 5\n",
    "c=s.capitalize()"
   ]
  },
  {
   "cell_type": "code",
   "execution_count": 10,
   "id": "1cb77da2",
   "metadata": {},
   "outputs": [
    {
     "data": {
      "text/plain": [
       "'This is my first python programming class and i am learning python string and its function'"
      ]
     },
     "execution_count": 10,
     "metadata": {},
     "output_type": "execute_result"
    }
   ],
   "source": [
    "c"
   ]
  },
  {
   "cell_type": "code",
   "execution_count": 11,
   "id": "a76faaa0",
   "metadata": {},
   "outputs": [],
   "source": [
    "#Answer 6\n",
    "s='jl545'"
   ]
  },
  {
   "cell_type": "code",
   "execution_count": 12,
   "id": "e1a957f1",
   "metadata": {},
   "outputs": [
    {
     "data": {
      "text/plain": [
       "True"
      ]
     },
     "execution_count": 12,
     "metadata": {},
     "output_type": "execute_result"
    }
   ],
   "source": [
    "#isalnum\n",
    "s.isalnum()"
   ]
  },
  {
   "cell_type": "code",
   "execution_count": 14,
   "id": "c7eb200d",
   "metadata": {},
   "outputs": [
    {
     "data": {
      "text/plain": [
       "True"
      ]
     },
     "execution_count": 14,
     "metadata": {},
     "output_type": "execute_result"
    }
   ],
   "source": [
    "#isalpha\n",
    "s='kjl'\n",
    "s.isalpha()"
   ]
  },
  {
   "cell_type": "code",
   "execution_count": 15,
   "id": "2ab31168",
   "metadata": {},
   "outputs": [
    {
     "data": {
      "text/plain": [
       "True"
      ]
     },
     "execution_count": 15,
     "metadata": {},
     "output_type": "execute_result"
    }
   ],
   "source": [
    "s= '543'\n",
    "s.isalnum()"
   ]
  },
  {
   "cell_type": "code",
   "execution_count": 16,
   "id": "6bbee0cb",
   "metadata": {},
   "outputs": [],
   "source": [
    "# so we can say in short isalnum() returns True if the string is either alphabet or number or includes both of them,\n",
    "# isalpha() returns True only if the string is aphabet"
   ]
  },
  {
   "cell_type": "code",
   "execution_count": 18,
   "id": "a4c179a4",
   "metadata": {},
   "outputs": [
    {
     "data": {
      "text/plain": [
       "'prince  francis'"
      ]
     },
     "execution_count": 18,
     "metadata": {},
     "output_type": "execute_result"
    }
   ],
   "source": [
    "# Answer 7\n",
    "s='prince\\tfrancis'\n",
    "s.expandtabs()"
   ]
  },
  {
   "cell_type": "code",
   "execution_count": 19,
   "id": "d544e2fa",
   "metadata": {},
   "outputs": [],
   "source": [
    "#Answer 8\n",
    "s= ' prince_francis    '"
   ]
  },
  {
   "cell_type": "code",
   "execution_count": 20,
   "id": "cbebcf2e",
   "metadata": {},
   "outputs": [
    {
     "data": {
      "text/plain": [
       "'prince_francis'"
      ]
     },
     "execution_count": 20,
     "metadata": {},
     "output_type": "execute_result"
    }
   ],
   "source": [
    "s.strip()  #this will delete spaces from both the sides of the string"
   ]
  },
  {
   "cell_type": "code",
   "execution_count": 21,
   "id": "ff73c0ca",
   "metadata": {},
   "outputs": [
    {
     "data": {
      "text/plain": [
       "'prince_francis    '"
      ]
     },
     "execution_count": 21,
     "metadata": {},
     "output_type": "execute_result"
    }
   ],
   "source": [
    "s.lstrip()#this will delete spaces from left side of the string"
   ]
  },
  {
   "cell_type": "code",
   "execution_count": 22,
   "id": "4efeaf95",
   "metadata": {},
   "outputs": [
    {
     "data": {
      "text/plain": [
       "' prince_francis'"
      ]
     },
     "execution_count": 22,
     "metadata": {},
     "output_type": "execute_result"
    }
   ],
   "source": [
    "s.rstrip()#this will delete spaces from right side of the string"
   ]
  },
  {
   "cell_type": "code",
   "execution_count": 27,
   "id": "b728ba4d",
   "metadata": {},
   "outputs": [
    {
     "data": {
      "text/plain": [
       "' pronce_francos    '"
      ]
     },
     "execution_count": 27,
     "metadata": {},
     "output_type": "execute_result"
    }
   ],
   "source": [
    "#Answer9\n",
    "s.replace('i','o')"
   ]
  },
  {
   "cell_type": "code",
   "execution_count": 25,
   "id": "86687958",
   "metadata": {},
   "outputs": [
    {
     "data": {
      "text/plain": [
       "'$$$$$ prince_francis    $$$$$$'"
      ]
     },
     "execution_count": 25,
     "metadata": {},
     "output_type": "execute_result"
    }
   ],
   "source": [
    "#Answer 10'\n",
    "s.center(30,'$')  # the center function will add the '$' sign to the right and left of string and place the string in the middle.Also the total count of resulted string is 30."
   ]
  },
  {
   "cell_type": "markdown",
   "id": "59579bcc",
   "metadata": {},
   "source": [
    "# Answer 11\n",
    "\n",
    "Compiler vs Interpreter\n",
    "\n",
    "Compilers and Interpreters are basically programs that are used to convert HLL into LLL i.e they convert source code into Machine codes. There are some key differences between them.\n",
    "1. Compilers analyze the code all at once and give the errors in a whole. Whereas, Interpreter checks the code line by line and  gives the erros also by each line.\n",
    "2. The overall execution time of compilers is less as compared to that of interpreters.\n",
    "3. Compilers convert the source code into an intermediary object code whereas interpreters dont convert source code into intermediary code.\n",
    "4. Compilers are used in languages like C, C++ whereas Interpreters are used in languages like Ruby, Python."
   ]
  },
  {
   "cell_type": "markdown",
   "id": "cb7834e7",
   "metadata": {},
   "source": [
    "# Answer 12\n",
    "Python is an interpreted as well as compiled language. When we write the program first, the source code is converted into\n",
    "byte code which is stored as .pyc files. This file is created only once and it will not re-execute itself until you have made \n",
    "any changes in the source code. The byte code actually is not a Machine code but its very close to it. At first python will \n",
    "compile source code into byte code. This byte code goes into the Python Virtual Machine(p.v.m) which is a part of python itself and the interpreter converts the byte code into machine code."
   ]
  },
  {
   "cell_type": "markdown",
   "id": "a9dda511",
   "metadata": {},
   "source": [
    "# Answer 13\n",
    "A usecase of python I can remember easily is Data Science. We can do EDA, create ML models in python. We can read, clean and\n",
    "tranform the data."
   ]
  }
 ],
 "metadata": {
  "kernelspec": {
   "display_name": "Python 3",
   "language": "python",
   "name": "python3"
  },
  "language_info": {
   "codemirror_mode": {
    "name": "ipython",
    "version": 3
   },
   "file_extension": ".py",
   "mimetype": "text/x-python",
   "name": "python",
   "nbconvert_exporter": "python",
   "pygments_lexer": "ipython3",
   "version": "3.8.8"
  }
 },
 "nbformat": 4,
 "nbformat_minor": 5
}
