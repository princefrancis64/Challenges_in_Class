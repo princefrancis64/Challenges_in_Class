{
 "cells": [
  {
   "cell_type": "code",
   "execution_count": null,
   "id": "a5731c24",
   "metadata": {},
   "outputs": [],
   "source": [
    "q1 :\n",
    "ineruon \n",
    "ineruon ineruon \n",
    "ineruon ineruon ineruon\n",
    "ineruon ineruon ineruon ineruon\n",
    "\n",
    "q2 - \n",
    "\n",
    "          ineruon\n",
    "    ineruon      ineruon\n",
    "ineruon\t\tineruon \tineruon\n",
    "\tineruon\t\t ineruon\n",
    "\t\t  ineruon\n",
    "\n",
    "l = [[1,2,3,4] , (2,3,4,5,6) , (3,4,5,6,7) , set([23,4,5,45,4,4,5,45,45,4,5]) , {'k1' :\"sudh\" , \"k2\" : \"ineuron\",\"k3\":\n",
    "            \"kumar\" , 3:6 , 7:8} , [\"ineuron\" , \"data science \"]]\n",
    "\n",
    "q3 : Try to extract all the list entity \n",
    "q4 : Try to extract all the dict entities\n",
    "q5 : Try to extract all the tuples entities\n",
    "q6 : Try to extract all the numerical data it may b a part of dict key and values \n",
    "q7 : Try to give summation of all the numeric data \n",
    "q8 : Try to filter out all the odd values out all numeric data which is a part of a list \n",
    "q9 : Try to extract \"ineruon\" out of this data\n",
    "q10 :Try to find out a number of occurances of all the data \n",
    "q11 : Try to find out number of keys in dict element\n",
    "q12 : Try to filter out all the string data \n",
    "q13 : Try to Find  out alphanum in data\n",
    "q14 : Try to find out multiplication of all numeric value in  the individual collection inside dataset \n",
    "q15 : Try to unwrape all the collection inside collection and create a flat list \n",
    "    \n",
    "    \n",
    "before 29th may 2022 3 PM IST you have to send an answer to me or to shivan \n",
    "sudhanshu@ineuron.ai\n",
    "shivan@ineuron.ai"
   ]
  },
  {
   "cell_type": "code",
   "execution_count": null,
   "id": "3ef45761",
   "metadata": {},
   "outputs": [],
   "source": []
  },
  {
   "cell_type": "code",
   "execution_count": 10,
   "id": "106e453a",
   "metadata": {},
   "outputs": [
    {
     "name": "stdout",
     "output_type": "stream",
     "text": [
      "ineuron \n",
      "ineuron ineuron \n",
      "ineuron ineuron ineuron \n",
      "ineuron ineuron ineuron ineuron \n"
     ]
    }
   ],
   "source": [
    "# Answer 1\n",
    "q = 4\n",
    "for i in range(4):\n",
    "    for j in range(0,i+1):\n",
    "        print('ineuron', end= ' ')\n",
    "    print()"
   ]
  },
  {
   "cell_type": "code",
   "execution_count": 47,
   "id": "e94f7790",
   "metadata": {},
   "outputs": [
    {
     "name": "stdout",
     "output_type": "stream",
     "text": [
      "   ineuron \n",
      "  ineuron ineuron \n",
      " ineuron ineuron ineuron \n",
      "     ineuron ineuron \n",
      "      ineuron ineuron ineuron \n"
     ]
    }
   ],
   "source": [
    "#Answer 2\n",
    "r= 3\n",
    "r2=3\n",
    "for i in range(3):\n",
    "    r=r-1\n",
    "    print( ' '*r , end= ' ')\n",
    "    for j in range(i+1):\n",
    "        print('ineuron', end=' ')\n",
    "    print()\n",
    "for k in range(2):\n",
    "    r2=r2+1\n",
    "    print(' '*r2, end= ' ')\n",
    "    for l in range(k+2):\n",
    "        print('ineuron', end= ' ')\n",
    "    print()\n"
   ]
  },
  {
   "cell_type": "code",
   "execution_count": 13,
   "id": "589485b5",
   "metadata": {},
   "outputs": [],
   "source": [
    "#Answer 3\n",
    "l = [[1,2,3,4] , (2,3,4,5,6) , (3,4,5,6,7) , set([23,4,5,45,4,4,5,45,45,4,5]) , {'k1' :\"sudh\" , \"k2\" : \"ineuron\",\"k3\":\"kumar\" , 3:6 , 7:8} , [\"ineuron\" , \"data science \"]]"
   ]
  },
  {
   "cell_type": "code",
   "execution_count": 14,
   "id": "8c7fa216",
   "metadata": {},
   "outputs": [
    {
     "name": "stdout",
     "output_type": "stream",
     "text": [
      "[1, 2, 3, 4]\n",
      "['ineuron', 'data science ']\n"
     ]
    }
   ],
   "source": [
    "for i in l:\n",
    "    if type(i) == list:\n",
    "        print(i)"
   ]
  },
  {
   "cell_type": "code",
   "execution_count": 15,
   "id": "3a711817",
   "metadata": {},
   "outputs": [
    {
     "name": "stdout",
     "output_type": "stream",
     "text": [
      "{'k1': 'sudh', 'k2': 'ineuron', 'k3': 'kumar', 3: 6, 7: 8}\n"
     ]
    }
   ],
   "source": [
    "#Answer 4\n",
    "for i in l:\n",
    "    if type(i) == dict:\n",
    "        print(i)"
   ]
  },
  {
   "cell_type": "code",
   "execution_count": 16,
   "id": "20c0048a",
   "metadata": {},
   "outputs": [
    {
     "name": "stdout",
     "output_type": "stream",
     "text": [
      "(2, 3, 4, 5, 6)\n",
      "(3, 4, 5, 6, 7)\n"
     ]
    }
   ],
   "source": [
    "#Answer 5\n",
    "for i in l:\n",
    "    if type(i) == tuple:\n",
    "        print(i)"
   ]
  },
  {
   "cell_type": "code",
   "execution_count": 33,
   "id": "b48273c3",
   "metadata": {},
   "outputs": [
    {
     "name": "stdout",
     "output_type": "stream",
     "text": [
      "3\n",
      "6\n",
      "7\n",
      "8\n"
     ]
    }
   ],
   "source": [
    "#Anwer 6\n",
    "for i in l:\n",
    "    if type(i) == dict:\n",
    "        for j in i.items():\n",
    "            for k in j:\n",
    "                if type(k)== int:\n",
    "                    print(k)"
   ]
  },
  {
   "cell_type": "code",
   "execution_count": 35,
   "id": "b97d2dc4",
   "metadata": {},
   "outputs": [],
   "source": [
    "#Answer 7\n",
    "l = [[1,2,3,4] , (2,3,4,5,6) , (3,4,5,6,7) , set([23,4,5,45,4,4,5,45,45,4,5]) , {'k1' :\"sudh\" , \"k2\" : \"ineuron\",\"k3\":\"kumar\" , 3:6 , 7:8} , [\"ineuron\" , \"data science \"]]"
   ]
  },
  {
   "cell_type": "code",
   "execution_count": 68,
   "id": "ab9c9dda",
   "metadata": {},
   "outputs": [
    {
     "name": "stdout",
     "output_type": "stream",
     "text": [
      "1\n",
      "2\n",
      "3\n",
      "4\n",
      "2\n",
      "3\n",
      "4\n",
      "5\n",
      "6\n",
      "3\n",
      "4\n",
      "5\n",
      "6\n",
      "7\n",
      "45\n",
      "4\n",
      "5\n",
      "23\n",
      "3\n",
      "6\n",
      "7\n",
      "8\n",
      "The total sum of the numerical data in the data is 156\n"
     ]
    }
   ],
   "source": [
    "sum = 0\n",
    "for i in l:\n",
    "    if type(i)== tuple or type(i) == list:\n",
    "        for j in i:\n",
    "            if type(j)== int:\n",
    "                print(j)\n",
    "                sum=sum+j\n",
    "    elif type(i)== set:\n",
    "        for k in i:\n",
    "            if type(k)== int:\n",
    "                print(k)\n",
    "                sum=sum+k\n",
    "    elif type(i) == dict:\n",
    "        for m in i.items():\n",
    "            for n in m:\n",
    "                if type(n)== int:\n",
    "                    print(n)\n",
    "                    sum=sum+n\n",
    "\n",
    "print('The total sum of the numerical data in the data is',sum)\n",
    "\n",
    "        "
   ]
  },
  {
   "cell_type": "code",
   "execution_count": 70,
   "id": "ebd24309",
   "metadata": {},
   "outputs": [],
   "source": [
    "#Answer 8\n",
    "l = [[1,2,3,4] , (2,3,4,5,6) , (3,4,5,6,7) , set([23,4,5,45,4,4,5,45,45,4,5]) , {'k1' :\"sudh\" , \"k2\" : \"ineuron\",\"k3\":\"kumar\" , 3:6 , 7:8} , [\"ineuron\" , \"data science \"]]"
   ]
  },
  {
   "cell_type": "code",
   "execution_count": 74,
   "id": "eeefeb21",
   "metadata": {},
   "outputs": [
    {
     "name": "stdout",
     "output_type": "stream",
     "text": [
      "1\n",
      "3\n"
     ]
    }
   ],
   "source": [
    "for i in l:\n",
    "    if type(i)== list:\n",
    "        for j in i:\n",
    "            if type(j)== int:\n",
    "                if j%2!=0:\n",
    "                    print(j)"
   ]
  },
  {
   "cell_type": "code",
   "execution_count": 75,
   "id": "cf1b5203",
   "metadata": {},
   "outputs": [],
   "source": [
    "#Answer 9\n",
    "l = [[1,2,3,4] , (2,3,4,5,6) , (3,4,5,6,7) , set([23,4,5,45,4,4,5,45,45,4,5]) , {'k1' :\"sudh\" , \"k2\" : \"ineuron\",\"k3\":\"kumar\" , 3:6 , 7:8} , [\"ineuron\" , \"data science \"]]"
   ]
  },
  {
   "cell_type": "code",
   "execution_count": 78,
   "id": "872d2dc9",
   "metadata": {},
   "outputs": [
    {
     "name": "stdout",
     "output_type": "stream",
     "text": [
      "ineuron\n",
      "ineuron\n"
     ]
    }
   ],
   "source": [
    "for i in l:\n",
    "    if type(i)== list or type(i)== tuple or type(i)== set:\n",
    "        for j in i:\n",
    "            if j=='ineuron':\n",
    "                print(j)\n",
    "    else:\n",
    "        for k in i.items():\n",
    "            for m in k:\n",
    "                if m=='ineuron':\n",
    "                    print(m)"
   ]
  },
  {
   "cell_type": "code",
   "execution_count": 79,
   "id": "c7cb5034",
   "metadata": {},
   "outputs": [],
   "source": [
    "#Answer 10\n",
    "l = [[1,2,3,4] , (2,3,4,5,6) , (3,4,5,6,7) , set([23,4,5,45,4,4,5,45,45,4,5]) , {'k1' :\"sudh\" , \"k2\" : \"ineuron\",\"k3\":\"kumar\" , 3:6 , 7:8} , [\"ineuron\" , \"data science \"]]"
   ]
  },
  {
   "cell_type": "code",
   "execution_count": 109,
   "id": "68d723fa",
   "metadata": {},
   "outputs": [
    {
     "name": "stdout",
     "output_type": "stream",
     "text": [
      "1 - 1\n",
      "2 - 2\n",
      "3 - 4\n",
      "4 - 4\n",
      "5 - 3\n",
      "6 - 3\n",
      "7 - 2\n",
      "ineuron - 2\n",
      "8 - 1\n",
      "kumar - 1\n",
      "sudh - 1\n",
      "data science  - 1\n",
      "45 - 1\n",
      "k2 - 1\n",
      "23 - 1\n",
      "k1 - 1\n",
      "k3 - 1\n"
     ]
    }
   ],
   "source": [
    "l1=[]\n",
    "for i in l:\n",
    "    if type(i)== list or type(i)==set or type(i)== tuple:\n",
    "        for j in i:\n",
    "            l1.append(j)\n",
    "    else:\n",
    "        for k in i.items():\n",
    "            for m in k:\n",
    "                l1.append(m)\n",
    "for n in set(l1):\n",
    "    print(n,'-' , l1.count(n))"
   ]
  },
  {
   "cell_type": "code",
   "execution_count": 110,
   "id": "5c15cbfc",
   "metadata": {},
   "outputs": [],
   "source": [
    "#Answer 11\n",
    "l = [[1,2,3,4] , (2,3,4,5,6) , (3,4,5,6,7) , set([23,4,5,45,4,4,5,45,45,4,5]) , {'k1' :\"sudh\" , \"k2\" : \"ineuron\",\"k3\":\"kumar\" , 3:6 , 7:8} , [\"ineuron\" , \"data science \"]]"
   ]
  },
  {
   "cell_type": "code",
   "execution_count": 116,
   "id": "b5bb4a4e",
   "metadata": {},
   "outputs": [
    {
     "name": "stdout",
     "output_type": "stream",
     "text": [
      "5\n"
     ]
    }
   ],
   "source": [
    "l1 = []\n",
    "for i in l:\n",
    "    if type(i)== dict:\n",
    "        for j in i:\n",
    "            l1.append(j)\n",
    "print(len(l1))"
   ]
  },
  {
   "cell_type": "code",
   "execution_count": 117,
   "id": "7dd4c3bf",
   "metadata": {},
   "outputs": [],
   "source": [
    "#Answer 12\n",
    "l = [[1,2,3,4] , (2,3,4,5,6) , (3,4,5,6,7) , set([23,4,5,45,4,4,5,45,45,4,5]) , {'k1' :\"sudh\" , \"k2\" : \"ineuron\",\"k3\":\"kumar\" , 3:6 , 7:8} , [\"ineuron\" , \"data science \"]]"
   ]
  },
  {
   "cell_type": "code",
   "execution_count": 119,
   "id": "7cca8d26",
   "metadata": {},
   "outputs": [
    {
     "name": "stdout",
     "output_type": "stream",
     "text": [
      "k1\n",
      "sudh\n",
      "k2\n",
      "ineuron\n",
      "k3\n",
      "kumar\n",
      "ineuron\n",
      "data science \n"
     ]
    }
   ],
   "source": [
    "for i in l:\n",
    "    if type(i) == list or type(i)== tuple or type(i)== set:\n",
    "        for j in i:\n",
    "            if type(j)== str:\n",
    "                print(j)\n",
    "    else:\n",
    "        for k in i.items():\n",
    "            for m in k:\n",
    "                if type(m)== str:\n",
    "                    print(m)"
   ]
  },
  {
   "cell_type": "code",
   "execution_count": 9,
   "id": "8bc20ad6",
   "metadata": {},
   "outputs": [
    {
     "name": "stdout",
     "output_type": "stream",
     "text": [
      "1\n",
      "2\n",
      "3\n",
      "4\n",
      "2\n",
      "3\n",
      "4\n",
      "5\n",
      "6\n",
      "3\n",
      "4\n",
      "5\n",
      "6\n",
      "7\n",
      "45\n",
      "4\n",
      "5\n",
      "23\n",
      "k1\n",
      "sudh\n",
      "k2\n",
      "ineuron\n",
      "k3\n",
      "kumar\n",
      "3\n",
      "6\n",
      "7\n",
      "8\n",
      "ineuron\n"
     ]
    }
   ],
   "source": [
    "#Answer 13\n",
    "l = [[1,2,3,4] , (2,3,4,5,6) , (3,4,5,6,7) , set([23,4,5,45,4,4,5,45,45,4,5]) , {'k1' :\"sudh\" , \"k2\" : \"ineuron\",\"k3\":\"kumar\" , 3:6 , 7:8} , [\"ineuron\" , \"data science \"]]\n",
    "for i in l:\n",
    "    if type(i) == list or type(i)== tuple or type(i)== set:\n",
    "        for j in i:\n",
    "            if str(j).isalnum() == True:\n",
    "                print(j)\n",
    "    else:\n",
    "        for k in i.items():\n",
    "            for m in k:\n",
    "                if str(m).isalnum()== True:\n",
    "                    print(m)\n"
   ]
  },
  {
   "cell_type": "code",
   "execution_count": 27,
   "id": "4aa166b7",
   "metadata": {},
   "outputs": [
    {
     "name": "stdout",
     "output_type": "stream",
     "text": [
      "18929272320000\n"
     ]
    }
   ],
   "source": [
    "#Answer 14\n",
    "\n",
    "m=1\n",
    "l = [[1,2,3,4] , (2,3,4,5,6) , (3,4,5,6,7) , set([23,4,5,45,4,4,5,45,45,4,5]) , {'k1' :\"sudh\" , \"k2\" : \"ineuron\",\"k3\":\"kumar\" , 3:6 , 7:8} , [\"ineuron\" , \"data science \"]]\n",
    "for i in l:\n",
    "    for j in i:\n",
    "        if type(j)== int:\n",
    "            m=m*j\n",
    "print(m)"
   ]
  },
  {
   "cell_type": "code",
   "execution_count": 16,
   "id": "e6ffaa64",
   "metadata": {},
   "outputs": [
    {
     "name": "stdout",
     "output_type": "stream",
     "text": [
      "[1, 2, 3, 4, 2, 3, 4, 5, 6, 3, 4, 5, 6, 7, 45, 4, 5, 23, 'k1', 'sudh', 'k2', 'ineuron', 'k3', 'kumar', 3, 6, 7, 8, 'ineuron', 'data science ']\n"
     ]
    }
   ],
   "source": [
    "#Answer 15\n",
    "l1=[]\n",
    "for i in l:\n",
    "    if type(i)== list or type(i)==set or type(i) == tuple:\n",
    "        for j in i:\n",
    "            l1.append(j)\n",
    "    else:\n",
    "        for k in i.items():\n",
    "            for m in k:\n",
    "                l1.append(m)\n",
    "print(l1)"
   ]
  },
  {
   "cell_type": "code",
   "execution_count": 17,
   "id": "a5421f4c",
   "metadata": {},
   "outputs": [],
   "source": [
    "s='123'"
   ]
  },
  {
   "cell_type": "code",
   "execution_count": 8,
   "id": "34488380",
   "metadata": {},
   "outputs": [
    {
     "data": {
      "text/plain": [
       "True"
      ]
     },
     "execution_count": 8,
     "metadata": {},
     "output_type": "execute_result"
    }
   ],
   "source": [
    "s.isalnum()"
   ]
  },
  {
   "cell_type": "code",
   "execution_count": null,
   "id": "dcf3ab6f",
   "metadata": {},
   "outputs": [],
   "source": []
  }
 ],
 "metadata": {
  "kernelspec": {
   "display_name": "Python 3",
   "language": "python",
   "name": "python3"
  },
  "language_info": {
   "codemirror_mode": {
    "name": "ipython",
    "version": 3
   },
   "file_extension": ".py",
   "mimetype": "text/x-python",
   "name": "python",
   "nbconvert_exporter": "python",
   "pygments_lexer": "ipython3",
   "version": "3.8.8"
  }
 },
 "nbformat": 4,
 "nbformat_minor": 5
}
